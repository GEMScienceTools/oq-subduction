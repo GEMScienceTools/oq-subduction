{
 "cells": [
  {
   "cell_type": "code",
   "execution_count": null,
   "metadata": {},
   "outputs": [],
   "source": [
    "import sys\n",
    "import cPickle as pickle\n",
    "\n",
    "sys.path.append('/Users/mpagani/Projects/hmtk/')\n",
    "sys.path.append('/Users/mpagani/Projects/original/oq-hazardlib/')\n",
    "\n",
    "from hmtk.parsers.catalogue.csv_catalogue_parser import CsvCatalogueParser"
   ]
  },
  {
   "cell_type": "markdown",
   "metadata": {},
   "source": [
    "## Load the global homogenised catalogue"
   ]
  },
  {
   "cell_type": "code",
   "execution_count": null,
   "metadata": {},
   "outputs": [],
   "source": [
    "output_path = \"/Users/mpagani/Google Drive/GEM_hazard/Data/catalogues/extended/Weatherill_Pagani_Garcia_Extended_Global_Earthquake_Catalogue.p\"\n",
    "cat1_name = \"/Users/mpagani/Google Drive/GEM_hazard/Data/catalogues/extended/Weatherill_Pagani_Garcia_Extended_Global_Earthquake_Catalogue.csv\"\n",
    "if 0: \n",
    "    catalogue_parser = CsvCatalogueParser(cat1_name)\n",
    "    catalogue = catalogue_parser.read_file()\n",
    "    fou = open(output_path,'wb') \n",
    "    pickle.dump(catalogue, fou)\n",
    "    fou.close()\n",
    "else:\n",
    "    fin = open(output_path,'rb') \n",
    "    cat1 = pickle.load(fin)\n",
    "    fin.close()"
   ]
  },
  {
   "cell_type": "code",
   "execution_count": null,
   "metadata": {},
   "outputs": [],
   "source": []
  },
  {
   "cell_type": "code",
   "execution_count": null,
   "metadata": {
    "collapsed": true
   },
   "outputs": [],
   "source": []
  }
 ],
 "metadata": {
  "kernelspec": {
   "display_name": "Python 2",
   "language": "python",
   "name": "python2"
  },
  "language_info": {
   "codemirror_mode": {
    "name": "ipython",
    "version": 2
   },
   "file_extension": ".py",
   "mimetype": "text/x-python",
   "name": "python",
   "nbconvert_exporter": "python",
   "pygments_lexer": "ipython2",
   "version": "2.7.13"
  }
 },
 "nbformat": 4,
 "nbformat_minor": 1
}
