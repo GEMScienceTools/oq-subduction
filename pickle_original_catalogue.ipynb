{
 "cells": [
  {
   "cell_type": "markdown",
   "metadata": {},
   "source": [
    "# Pickle the original catalogue assigned to a model"
   ]
  },
  {
   "cell_type": "code",
   "execution_count": 1,
   "metadata": {
    "collapsed": true
   },
   "outputs": [],
   "source": [
    "import os\n",
    "import re\n",
    "import cPickle as pickle\n",
    "from oqmbt.oqt_project import OQtProject\n",
    "from hmtk.parsers.catalogue.csv_catalogue_parser import CsvCatalogueParser"
   ]
  },
  {
   "cell_type": "code",
   "execution_count": 2,
   "metadata": {
    "collapsed": true
   },
   "outputs": [],
   "source": [
    "project_pickle_filename = os.environ.get('OQMBT_PROJECT')\n",
    "oqtkp = OQtProject.load_from_file(project_pickle_filename)\n",
    "model_id = oqtkp.active_model_id\n",
    "model = oqtkp.models[model_id]\n",
    "catalogue_csv_filename = getattr(model,'catalogue_csv_filename')"
   ]
  },
  {
   "cell_type": "code",
   "execution_count": 3,
   "metadata": {},
   "outputs": [],
   "source": [
    "catalogue_parser = CsvCatalogueParser(catalogue_csv_filename)\n",
    "catalogue = catalogue_parser.read_file()"
   ]
  },
  {
   "cell_type": "code",
   "execution_count": 6,
   "metadata": {},
   "outputs": [],
   "source": [
    "model_lab = re.sub('\\s', '_', oqtkp.models[model_id].name).lower()\n",
    "output_path = os.path.join(oqtkp.directory, '%s_catalogue_original.pkl' % model_lab)\n",
    "fou = open(output_path,'wb') \n",
    "pickle.dump(catalogue, fou)\n",
    "fou.close()\n",
    "print 'Catalogue object saved in file:'\n",
    "print output_path\n",
    "oqtkp.save()"
   ]
  }
 ],
 "metadata": {
  "kernelspec": {
   "display_name": "Python 2",
   "language": "python",
   "name": "python2"
  },
  "language_info": {
   "codemirror_mode": {
    "name": "ipython",
    "version": 2
   },
   "file_extension": ".py",
   "mimetype": "text/x-python",
   "name": "python",
   "nbconvert_exporter": "python",
   "pygments_lexer": "ipython2",
   "version": "2.7.13"
  }
 },
 "nbformat": 4,
 "nbformat_minor": 1
}
