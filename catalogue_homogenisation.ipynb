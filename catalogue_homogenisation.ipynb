{
 "cells": [
  {
   "cell_type": "code",
   "execution_count": null,
   "metadata": {
    "collapsed": true
   },
   "outputs": [],
   "source": [
    "import sys \n",
    "sys.path.append('/Users/mpagani/Projects/catalogue_toolkit/')\n",
    "\n",
    "from eqcat.parsers.generic_catalogue import GeneralCsvCatalogue\n",
    "from eqcat.parsers.gcmt_ndk_parser import ParseNDKtoGCMT"
   ]
  },
  {
   "cell_type": "code",
   "execution_count": null,
   "metadata": {},
   "outputs": [],
   "source": [
    "gcmt_filename = '/Users/mpagani/Data/catalogues/gcmt/jan76_dec13.ndk'\n",
    "gcmt_parser = ParseNDKtoGCMT(gcmt_filename)\n",
    "gcmt_cat = gcmt_parser.read_file()\n",
    "print \"GCMT Catalogue contains %d moment tensors\" % gcmt_cat.number_events()"
   ]
  },
  {
   "cell_type": "code",
   "execution_count": null,
   "metadata": {
    "collapsed": true
   },
   "outputs": [],
   "source": [
    "from eqcat.isc_homogenisor import DuplicateFinder"
   ]
  },
  {
   "cell_type": "code",
   "execution_count": null,
   "metadata": {
    "collapsed": true
   },
   "outputs": [],
   "source": []
  }
 ],
 "metadata": {
  "kernelspec": {
   "display_name": "Python 2",
   "language": "python",
   "name": "python2"
  },
  "language_info": {
   "codemirror_mode": {
    "name": "ipython",
    "version": 2
   },
   "file_extension": ".py",
   "mimetype": "text/x-python",
   "name": "python",
   "nbconvert_exporter": "python",
   "pygments_lexer": "ipython2",
   "version": "2.7.13"
  }
 },
 "nbformat": 4,
 "nbformat_minor": 1
}
